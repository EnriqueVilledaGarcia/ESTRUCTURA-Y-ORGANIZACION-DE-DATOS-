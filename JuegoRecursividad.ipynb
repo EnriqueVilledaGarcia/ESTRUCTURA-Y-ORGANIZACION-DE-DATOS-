{
  "nbformat": 4,
  "nbformat_minor": 0,
  "metadata": {
    "colab": {
      "provenance": [],
      "authorship_tag": "ABX9TyPYhdWY+4xYMuuNx/EzzWJi",
      "include_colab_link": true
    },
    "kernelspec": {
      "name": "python3",
      "display_name": "Python 3"
    },
    "language_info": {
      "name": "python"
    }
  },
  "cells": [
    {
      "cell_type": "markdown",
      "metadata": {
        "id": "view-in-github",
        "colab_type": "text"
      },
      "source": [
        "<a href=\"https://colab.research.google.com/github/EnriqueVilledaGarcia/ESTRUCTURA-Y-ORGANIZACION-DE-DATOS-/blob/main/JuegoRecursividad.ipynb\" target=\"_parent\"><img src=\"https://colab.research.google.com/assets/colab-badge.svg\" alt=\"Open In Colab\"/></a>"
      ]
    },
    {
      "cell_type": "code",
      "execution_count": null,
      "metadata": {
        "id": "QjhIQk7ZP4Gl"
      },
      "outputs": [],
      "source": [
        "def jugar(intento=0):\n",
        "    escondido= 289\n",
        "    respuesta= int(input(\"Ingresa un numero del 1 al 1000: \"))\n",
        "    if respuesta != escondido:\n",
        "        if respuesta < escondido:\n",
        "            print(\"El numero debe ser mayor al que ingresaste \")\n",
        "        else:\n",
        "            print(\"El numero debe ser menor al que ingresaste\")\n",
        "        print(\"Intentalo de nuevo\")\n",
        "        intento += 1\n",
        "        print(\"Llevas \", intento, \"Intentos\")\n",
        "        jugar(intento)\n",
        "    else:\n",
        "        intento += 1\n",
        "        print(\"Encontraste el numero, con un numero de intentos de:  \", intento)\n",
        "jugar()"
      ]
    }
  ]
}