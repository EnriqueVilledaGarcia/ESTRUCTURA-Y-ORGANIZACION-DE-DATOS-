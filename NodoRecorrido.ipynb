{
  "nbformat": 4,
  "nbformat_minor": 0,
  "metadata": {
    "colab": {
      "provenance": [],
      "authorship_tag": "ABX9TyOYTEdN7JVxATPLuOZX7/x8",
      "include_colab_link": true
    },
    "kernelspec": {
      "name": "python3",
      "display_name": "Python 3"
    },
    "language_info": {
      "name": "python"
    }
  },
  "cells": [
    {
      "cell_type": "markdown",
      "metadata": {
        "id": "view-in-github",
        "colab_type": "text"
      },
      "source": [
        "<a href=\"https://colab.research.google.com/github/EnriqueVilledaGarcia/ESTRUCTURA-Y-ORGANIZACION-DE-DATOS-/blob/main/NodoRecorrido.ipynb\" target=\"_parent\"><img src=\"https://colab.research.google.com/assets/colab-badge.svg\" alt=\"Open In Colab\"/></a>"
      ]
    },
    {
      "cell_type": "code",
      "execution_count": null,
      "metadata": {
        "colab": {
          "base_uri": "https://localhost:8080/"
        },
        "id": "zEtjA5xI-skI",
        "outputId": "0660f67f-7be6-4aef-99fd-355ab4364380"
      },
      "outputs": [
        {
          "output_type": "stream",
          "name": "stdout",
          "text": [
            "ELIJA UNA OPCION 1.- Agregar 2.-Preorden 3.-Postorden 4.-Inorden 5.-Salir\n",
            "ingrese la opcion:   1\n",
            "Ingrese el valor: 34\n",
            "ELIJA UNA OPCION 1.- Agregar 2.-Preorden 3.-Postorden 4.-Inorden 5.-Salir\n",
            "ingrese la opcion:   1\n",
            "Ingrese el valor: 76\n",
            "ELIJA UNA OPCION 1.- Agregar 2.-Preorden 3.-Postorden 4.-Inorden 5.-Salir\n",
            "ingrese la opcion:   1\n",
            "Ingrese el valor: 89\n",
            "ELIJA UNA OPCION 1.- Agregar 2.-Preorden 3.-Postorden 4.-Inorden 5.-Salir\n",
            "ingrese la opcion:   2\n",
            "Preorden\n",
            "34\n",
            "76\n",
            "89\n",
            "ELIJA UNA OPCION 1.- Agregar 2.-Preorden 3.-Postorden 4.-Inorden 5.-Salir\n",
            "ingrese la opcion:   3\n",
            "postorden\n",
            "89\n",
            "76\n",
            "34\n",
            "ELIJA UNA OPCION 1.- Agregar 2.-Preorden 3.-Postorden 4.-Inorden 5.-Salir\n",
            "ingrese la opcion:   4\n",
            "inorden\n",
            "34\n",
            "76\n",
            "89\n",
            "ELIJA UNA OPCION 1.- Agregar 2.-Preorden 3.-Postorden 4.-Inorden 5.-Salir\n"
          ]
        }
      ],
      "source": [
        "class Nodo:\n",
        "  def __init__(self, value=None, izq=None, der=None):\n",
        "        self.value = value\n",
        "        self.izq = izq\n",
        "        self.der = der\n",
        "\n",
        "  def __str__(self):\n",
        "        return self.value\n",
        "class aBinarios:\n",
        "  def __init__(self):\n",
        "    self.raiz = None\n",
        "  def agregar(self, elemento):\n",
        "    if self.raiz == None:\n",
        "      self.raiz = elemento\n",
        "    else:\n",
        "      aux = self.raiz\n",
        "      padre = None\n",
        "      while aux != None:\n",
        "        padre = aux\n",
        "        if int(elemento.value) >= int(aux.value):\n",
        "          aux = aux.der\n",
        "        else:\n",
        "          aux = aux.izq\n",
        "      if int(elemento.value) >= int(padre.value):\n",
        "          padre.der = elemento\n",
        "      else:\n",
        "         padre.izq = elemento\n",
        "  def preorden(self, elemento):\n",
        "    if elemento != None:\n",
        "      print(elemento)\n",
        "      self.preorden(elemento.izq)\n",
        "      self.preorden(elemento.der)\n",
        "  def postorden(self, elemento):\n",
        "    if elemento != None:\n",
        "      self.postorden(elemento.izq)\n",
        "      self.postorden(elemento.der)\n",
        "      print(elemento)\n",
        "  def inorden(self, elemento):\n",
        "    if elemento != None:\n",
        "      self.inorden(elemento.izq)\n",
        "      print(elemento)\n",
        "      self.inorden(elemento.der)\n",
        "  def getRaiz(self):\n",
        "    return self.raiz\n",
        "if __name__ == \"__main__\":\n",
        "  ab = aBinarios()\n",
        "  while(True):\n",
        "    print(\"ELIJA UNA OPCION 1.- Agregar 2.-Preorden 3.-Postorden 4.-Inorden 5.-Salir\")\n",
        "    num = int(input(\"ingrese la opcion:   \"))\n",
        "    if num == 1:\n",
        "      value = input(\"Ingrese el valor: \")\n",
        "      nod = Nodo(value)\n",
        "      ab.agregar(nod)\n",
        "    elif num == 2:\n",
        "      print(\"Preorden\")\n",
        "      ab.preorden(ab.getRaiz())\n",
        "    elif num == 3:\n",
        "      print(\"postorden\")\n",
        "      ab.postorden(ab.getRaiz())\n",
        "    elif num == 4:\n",
        "      print(\"inorden\")\n",
        "      ab.inorden(ab.getRaiz())\n",
        "    elif num == 5:\n",
        "      exit()"
      ]
    }
  ]
}