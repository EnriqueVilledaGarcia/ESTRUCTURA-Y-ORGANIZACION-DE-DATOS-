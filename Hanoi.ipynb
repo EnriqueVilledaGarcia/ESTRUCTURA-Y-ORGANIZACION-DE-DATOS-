{
  "nbformat": 4,
  "nbformat_minor": 0,
  "metadata": {
    "colab": {
      "provenance": [],
      "authorship_tag": "ABX9TyNptYgHTjZBjVDtkftYX5De",
      "include_colab_link": true
    },
    "kernelspec": {
      "name": "python3",
      "display_name": "Python 3"
    },
    "language_info": {
      "name": "python"
    }
  },
  "cells": [
    {
      "cell_type": "markdown",
      "metadata": {
        "id": "view-in-github",
        "colab_type": "text"
      },
      "source": [
        "<a href=\"https://colab.research.google.com/github/EnriqueVilledaGarcia/ESTRUCTURA-Y-ORGANIZACION-DE-DATOS-/blob/main/Hanoi.ipynb\" target=\"_parent\"><img src=\"https://colab.research.google.com/assets/colab-badge.svg\" alt=\"Open In Colab\"/></a>"
      ]
    },
    {
      "cell_type": "code",
      "execution_count": 1,
      "metadata": {
        "colab": {
          "base_uri": "https://localhost:8080/"
        },
        "id": "uTAcO_7y91FL",
        "outputId": "1a1690b5-cf56-488b-8547-aa3c56e7f802"
      },
      "outputs": [
        {
          "output_type": "stream",
          "name": "stdout",
          "text": [
            "2-->2\n",
            "0-->1\n",
            "1-->1\n",
            "0-->2\n",
            "0-->0\n",
            "1-->2\n",
            "2-->2\n"
          ]
        }
      ],
      "source": [
        "def hanoi(n, pivote_inicial, pivote_final, pivote_auxiliar):\n",
        "  if n==1:\n",
        "    print(pivote_final + \"-->\"+ pivote_final)\n",
        "  else:\n",
        "    hanoi(n-1, pivote_inicial, pivote_auxiliar, pivote_final)\n",
        "    print(pivote_inicial + \"-->\" + pivote_final)\n",
        "    hanoi(n-1, pivote_auxiliar, pivote_final, pivote_inicial)\n",
        "\n",
        "hanoi(3,\"0\", \"2\", \"1\")"
      ]
    }
  ]
}