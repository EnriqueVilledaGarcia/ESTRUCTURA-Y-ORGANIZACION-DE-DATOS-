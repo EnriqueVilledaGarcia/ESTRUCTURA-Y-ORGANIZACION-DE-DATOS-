{
  "nbformat": 4,
  "nbformat_minor": 0,
  "metadata": {
    "colab": {
      "name": "While",
      "provenance": [],
      "include_colab_link": true
    },
    "kernelspec": {
      "name": "python3",
      "display_name": "Python 3"
    },
    "language_info": {
      "name": "python"
    }
  },
  "cells": [
    {
      "cell_type": "markdown",
      "metadata": {
        "id": "view-in-github",
        "colab_type": "text"
      },
      "source": [
        "<a href=\"https://colab.research.google.com/github/EnriqueVilledaGarcia/ESTRUCTURA-Y-ORGANIZACION-DE-DATOS-/blob/main/While.ipynb\" target=\"_parent\"><img src=\"https://colab.research.google.com/assets/colab-badge.svg\" alt=\"Open In Colab\"/></a>"
      ]
    },
    {
      "cell_type": "code",
      "source": [
        "#Trabajo realizado por Enrique Villeda García y Brandon Ruiz Silvestre Para la Materia de Estructura Y Organizacion De Datos, del maestro Rosales Alvarez Domingo##\n",
        "##El bucle while lo que hace es repetir un código mientras dure una determinada condición.##\n",
        "##Se puede decir que el bucle while se utiliza para hacer algo repetidamente, bajo unas condiciones específicas, cuantas veces se repetirá.##\n",
        "\n",
        "##Ejemplo##\n",
        "i = 0                    ## Aqui se visualiza el contador el cual se esta inicializando en cero ##\n",
        "while i < 11:          ## Se le da la operacion de while y se le indica cuantas veces se va a repetir la operacion##\n",
        "  print('cuento', i)   ## Se indica lo que va imprimir el programa##\n",
        "  i+=1                   ## El contador que se inicializo en cero, ira sumando 1 cada que vuelva a repetir el ciclo. El cual nuestro programa finalizara cuando nuestro contador \"i\" sea igual al numero de veces que el usuario ingreso. ##\n"
      ],
      "metadata": {
        "id": "6DjZdMGYy-b2",
        "colab": {
          "base_uri": "https://localhost:8080/"
        },
        "outputId": "6a942294-e42b-402d-96c1-775acabe373e"
      },
      "execution_count": null,
      "outputs": [
        {
          "output_type": "stream",
          "name": "stdout",
          "text": [
            "cuento 0\n",
            "cuento 1\n",
            "cuento 2\n",
            "cuento 3\n",
            "cuento 4\n",
            "cuento 5\n",
            "cuento 6\n",
            "cuento 7\n",
            "cuento 8\n",
            "cuento 9\n",
            "cuento 10\n"
          ]
        }
      ]
    }
  ]
}