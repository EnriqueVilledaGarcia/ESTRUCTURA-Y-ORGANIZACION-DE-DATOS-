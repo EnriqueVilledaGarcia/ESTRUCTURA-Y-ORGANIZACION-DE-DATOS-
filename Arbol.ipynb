{
  "nbformat": 4,
  "nbformat_minor": 0,
  "metadata": {
    "colab": {
      "provenance": [],
      "authorship_tag": "ABX9TyOlztbyWuoTQFBT8H9+dELt",
      "include_colab_link": true
    },
    "kernelspec": {
      "name": "python3",
      "display_name": "Python 3"
    },
    "language_info": {
      "name": "python"
    }
  },
  "cells": [
    {
      "cell_type": "markdown",
      "metadata": {
        "id": "view-in-github",
        "colab_type": "text"
      },
      "source": [
        "<a href=\"https://colab.research.google.com/github/EnriqueVilledaGarcia/ESTRUCTURA-Y-ORGANIZACION-DE-DATOS-/blob/main/Arbol.ipynb\" target=\"_parent\"><img src=\"https://colab.research.google.com/assets/colab-badge.svg\" alt=\"Open In Colab\"/></a>"
      ]
    },
    {
      "cell_type": "code",
      "execution_count": null,
      "metadata": {
        "id": "0ejcHL4pXcUB"
      },
      "outputs": [],
      "source": [
        "class Arbol(object):\n",
        "  def __init__(self):\n",
        "    self.der= None\n",
        "    self.izq= None\n",
        "    self.dato = None\n",
        "\n",
        "raiz = Arbol()\n",
        "raiz.dato = \"Raiz\"\n",
        "raiz.izq= Arbol()\n",
        "raiz.izq.dato = \"Izquierda\"\n",
        "raiz.der= Arbol()\n",
        "raiz.der.dato= \"Derecha\"\n",
        "\n",
        "raiz.izq.izq= Arbol()\n",
        "raiz.izq.izq.dato= \"Izquierda 2\"\n",
        "raiz.izq.der = Arbol()\n",
        "raiz.izq.der.dato= \"Izquierda - Derecha\"\n",
        "\n",
        "print(raiz.izq.dato)\n",
        "print(raiz.der.dato)\n",
        "print(raiz.dato)\n",
        "print(raiz.izq.der.dato)"
      ]
    }
  ]
}