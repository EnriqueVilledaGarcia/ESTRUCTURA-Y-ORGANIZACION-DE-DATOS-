{
  "nbformat": 4,
  "nbformat_minor": 0,
  "metadata": {
    "colab": {
      "provenance": [],
      "authorship_tag": "ABX9TyPjPFUthdj2Qqa6mhr1J0zp",
      "include_colab_link": true
    },
    "kernelspec": {
      "name": "python3",
      "display_name": "Python 3"
    },
    "language_info": {
      "name": "python"
    }
  },
  "cells": [
    {
      "cell_type": "markdown",
      "metadata": {
        "id": "view-in-github",
        "colab_type": "text"
      },
      "source": [
        "<a href=\"https://colab.research.google.com/github/EnriqueVilledaGarcia/ESTRUCTURA-Y-ORGANIZACION-DE-DATOS-/blob/main/Practica.ipynb\" target=\"_parent\"><img src=\"https://colab.research.google.com/assets/colab-badge.svg\" alt=\"Open In Colab\"/></a>"
      ]
    },
    {
      "cell_type": "code",
      "execution_count": null,
      "metadata": {
        "id": "7V0w18kcuCi2"
      },
      "outputs": [],
      "source": [
        "op= 0\n",
        "alumnos= [\"Enrique\"]\n",
        "def menu(op):\n",
        "    while op != 9:\n",
        "        op= int(input(\"Elige una opcion: 1.-Imprimir Lista 2.-Insertar valor al final de la lista 3.-Eliminar ultimo elemento de lista 4.-Insertar valor indicando posicion 5.-Ordenar de A a Z 6.-Ordenar de Z a A 7.-Buscar en lista y remover el primero 8.-Insertar un valor negativo e imprimir el registro correspondiente 9.-Salir \"))\n",
        "        if op == 1:\n",
        "          imprimir(alumnos)\n",
        "        elif op == 2:\n",
        "            insertar(alumnos)\n",
        "        elif op == 3:\n",
        "            eliminar(alumnos)\n",
        "        elif op == 4:\n",
        "            inserta(alumnos)\n",
        "        elif op == 5:\n",
        "            ordenaA(alumnos)\n",
        "        elif op == 6:\n",
        "            ordenaZ(alumnos)\n",
        "        elif op == 7:\n",
        "            remover(alumnos)\n",
        "        else:\n",
        "            print(\"ELIGE UNA OPCION CORRECTA\")\n",
        "    print(\"USTED ELIGIO TERMINAR EL PROGRAMA\")\n",
        "\n",
        "def imprimir(alumnos):\n",
        "  print (alumnos)\n",
        "\n",
        "def insertar(alumnos):\n",
        "    alumnos.append(input(\"Ingresa el nombre del alumno:   \"))\n",
        "    print(alumnos)\n",
        "\n",
        "def eliminar(alumnos):\n",
        "    try:\n",
        "        alumnos.pop()\n",
        "        print(alumnos)\n",
        "    except:\n",
        "        print(\"Ya no hay nombres en la lista \")\n",
        "\n",
        "def inserta(alumnos):\n",
        "    x = int(input(\"Ingresa la posicion donde quieres se inserte el dato:   \"))\n",
        "    m= input(\"Ingresa el nombre: \")\n",
        "    alumnos.insert(x,m)\n",
        "    print(alumnos)\n",
        "\n",
        "def ordenaA(alumnos):\n",
        "    alumnos.sort()\n",
        "    print(alumnos)\n",
        "\n",
        "def ordenaZ(alumnos):\n",
        "    alumnos.sort(reverse=True)\n",
        "    print(alumnos)\n",
        "\n",
        "def remover(alumnos):\n",
        "    alumnos.remove(input(\"Ingresa el nombre a eliminar  \"))\n",
        "    print(alumnos)\n",
        "menu(op)"
      ]
    }
  ]
}