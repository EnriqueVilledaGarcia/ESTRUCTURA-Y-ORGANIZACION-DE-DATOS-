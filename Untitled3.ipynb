{
  "nbformat": 4,
  "nbformat_minor": 0,
  "metadata": {
    "colab": {
      "name": "Untitled3.ipynb",
      "provenance": [],
      "authorship_tag": "ABX9TyN2tux1ooVR5BeptQz48EkR",
      "include_colab_link": true
    },
    "kernelspec": {
      "name": "python3",
      "display_name": "Python 3"
    },
    "language_info": {
      "name": "python"
    }
  },
  "cells": [
    {
      "cell_type": "markdown",
      "metadata": {
        "id": "view-in-github",
        "colab_type": "text"
      },
      "source": [
        "<a href=\"https://colab.research.google.com/github/EnriqueVilledaGarcia/ESTRUCTURA-Y-ORGANIZACION-DE-DATOS-/blob/main/Untitled3.ipynb\" target=\"_parent\"><img src=\"https://colab.research.google.com/assets/colab-badge.svg\" alt=\"Open In Colab\"/></a>"
      ]
    },
    {
      "cell_type": "code",
      "execution_count": 12,
      "metadata": {
        "id": "0mtT2rALtk6p"
      },
      "outputs": [],
      "source": [
        "def __init__(self):\n",
        "  self.nombre= 0\n",
        "  self.apellidoM= 0 \n",
        "  self.apellidoP= 0"
      ]
    },
    {
      "cell_type": "code",
      "source": [
        "def entrada(self):\n",
        "  self.nombre(input(\"Ingresa el nombre \"))\n",
        "  self.apellido(input(\"Ingresa tu apellido paterno \"))\n",
        "  self.apellido(input(\"Ingresa tu apellido materno \"))"
      ],
      "metadata": {
        "id": "SsFgpO02w5PR"
      },
      "execution_count": 17,
      "outputs": []
    },
    {
      "cell_type": "code",
      "source": [
        "\n"
      ],
      "metadata": {
        "id": "uF1R06NYxeT-"
      },
      "execution_count": null,
      "outputs": []
    }
  ]
}