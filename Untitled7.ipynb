{
  "nbformat": 4,
  "nbformat_minor": 0,
  "metadata": {
    "colab": {
      "provenance": [],
      "authorship_tag": "ABX9TyOcbHdMIQEaIxK62gb3smpY",
      "include_colab_link": true
    },
    "kernelspec": {
      "name": "python3",
      "display_name": "Python 3"
    },
    "language_info": {
      "name": "python"
    }
  },
  "cells": [
    {
      "cell_type": "markdown",
      "metadata": {
        "id": "view-in-github",
        "colab_type": "text"
      },
      "source": [
        "<a href=\"https://colab.research.google.com/github/EnriqueVilledaGarcia/ESTRUCTURA-Y-ORGANIZACION-DE-DATOS-/blob/main/Untitled7.ipynb\" target=\"_parent\"><img src=\"https://colab.research.google.com/assets/colab-badge.svg\" alt=\"Open In Colab\"/></a>"
      ]
    },
    {
      "cell_type": "code",
      "execution_count": 35,
      "metadata": {
        "id": "xma1Ami9tp1v"
      },
      "outputs": [],
      "source": [
        "op = 0 \n",
        "alumnos = []\n",
        "def menu():\n",
        "  print(int(input(\"Ingresa alguna opcion: 1.- Imprimir listas 2.- Insertar valor 3.-Eliminar ultimo elemento 4.- Insertar valor indicando posicion 5.- Ordenar de A - Z  6.-Ordenar de Z-A 7.-Buscar y remover el primero 8.- Ingresa posicion negativa en lista 9.- Salir  \")))\n",
        "  if op == 1:\n",
        "    Impresion()\n",
        "\n",
        "def Impresion():\n",
        "    print(alumnos)\n"
      ]
    }
  ]
}