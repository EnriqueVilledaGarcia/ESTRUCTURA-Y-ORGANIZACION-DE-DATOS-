{
  "nbformat": 4,
  "nbformat_minor": 0,
  "metadata": {
    "colab": {
      "name": "Ejercicio3.ipynb",
      "provenance": [],
      "authorship_tag": "ABX9TyPq7aLChwF5d8zJJwkFvwBU",
      "include_colab_link": true
    },
    "kernelspec": {
      "name": "python3",
      "display_name": "Python 3"
    },
    "language_info": {
      "name": "python"
    }
  },
  "cells": [
    {
      "cell_type": "markdown",
      "metadata": {
        "id": "view-in-github",
        "colab_type": "text"
      },
      "source": [
        "<a href=\"https://colab.research.google.com/github/EnriqueVilledaGarcia/ESTRUCTURA-Y-ORGANIZACION-DE-DATOS-/blob/main/Ejercicio3.ipynb\" target=\"_parent\"><img src=\"https://colab.research.google.com/assets/colab-badge.svg\" alt=\"Open In Colab\"/></a>"
      ]
    },
    {
      "cell_type": "code",
      "source": [
        "class Arreglos:\n",
        "    def __init__(self):\n",
        "        self.nombre = \"\"\n",
        "        self.apellidoP = \" \"\n",
        "        self.apellidoM = \" \"\n",
        "\n",
        "    def entrada(self):\n",
        "        self.nombre = input(\"Ingresa tu nombre   \")\n",
        "        self.apellidoP = input (\"Ingresa tu apellido PATERNO \")\n",
        "        self.apellidoM = input (\"Ingresa tu apellido MATERNO \")\n",
        "\n",
        "    def proceso(self):\n",
        "          nombreComp = []\n",
        "          nombreComp.append(self.nombre)\n",
        "          nombreComp.append(self.apellidoP)\n",
        "          nombreComp.append(self.apellidoM)\n",
        "          print(nombreComp)"
      ],
      "metadata": {
        "id": "ZkTCrDMU4IXk"
      },
      "execution_count": 115,
      "outputs": []
    },
    {
      "cell_type": "code",
      "source": [
        "obj = Arreglos()\n",
        "obj.entrada()\n",
        "obj.proceso()"
      ],
      "metadata": {
        "colab": {
          "base_uri": "https://localhost:8080/"
        },
        "id": "3s20LCz9AzCt",
        "outputId": "2ca9d8fd-94ba-4166-a9be-d395242b6890"
      },
      "execution_count": 116,
      "outputs": [
        {
          "output_type": "stream",
          "name": "stdout",
          "text": [
            "Ingresa tu nombre   ENRIQUE \n",
            "Ingresa tu apellido PATERNO VILLEDA \n",
            "Ingresa tu apellido MATERNO GARCIA \n",
            "['ENRIQUE ', 'VILLEDA ', 'GARCIA ']\n"
          ]
        }
      ]
    }
  ]
}