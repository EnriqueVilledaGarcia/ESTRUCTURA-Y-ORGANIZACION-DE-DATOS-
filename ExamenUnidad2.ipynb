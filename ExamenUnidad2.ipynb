{
  "nbformat": 4,
  "nbformat_minor": 0,
  "metadata": {
    "colab": {
      "provenance": [],
      "collapsed_sections": [],
      "authorship_tag": "ABX9TyNkOy7dI0fqdvxFz/wewFVO",
      "include_colab_link": true
    },
    "kernelspec": {
      "name": "python3",
      "display_name": "Python 3"
    },
    "language_info": {
      "name": "python"
    }
  },
  "cells": [
    {
      "cell_type": "markdown",
      "metadata": {
        "id": "view-in-github",
        "colab_type": "text"
      },
      "source": [
        "<a href=\"https://colab.research.google.com/github/EnriqueVilledaGarcia/ESTRUCTURA-Y-ORGANIZACION-DE-DATOS-/blob/main/ExamenUnidad2.ipynb\" target=\"_parent\"><img src=\"https://colab.research.google.com/assets/colab-badge.svg\" alt=\"Open In Colab\"/></a>"
      ]
    },
    {
      "cell_type": "code",
      "execution_count": null,
      "metadata": {
        "colab": {
          "base_uri": "https://localhost:8080/"
        },
        "id": "B0eep5P1NH4c",
        "outputId": "aa7b18a1-1ae8-4f0a-abd0-8a5f1577d68f"
      },
      "outputs": [
        {
          "output_type": "stream",
          "name": "stdout",
          "text": [
            "Ingresa una opcion: 1.-Agregar comida 2.-Agregar bebida 3.-Agregar Postre 4.-Despachar 5.-Salir 4\n",
            "Ingresa tu nombre: Enrique\n",
            "No hay comida disponible \n",
            "No hay bebidas disponibles \n",
            "No hay postres disponibles   \n",
            "[['Enrique']]\n",
            "Ingresa una opcion: 1.-Agregar comida 2.-Agregar bebida 3.-Agregar Postre 4.-Despachar 5.-Salir 1\n",
            "Ingresa comida que llego: Pizza\n",
            "['Pizza']\n",
            "Ingresa una opcion: 1.-Agregar comida 2.-Agregar bebida 3.-Agregar Postre 4.-Despachar 5.-Salir 2\n",
            "Ingresa la bebida que llego:  Refresco\n",
            "['Refresco']\n",
            "Ingresa una opcion: 1.-Agregar comida 2.-Agregar bebida 3.-Agregar Postre 4.-Despachar 5.-Salir 3\n",
            "Ingresa el postre que llego: Pay\n",
            "['Pay']\n",
            "Ingresa una opcion: 1.-Agregar comida 2.-Agregar bebida 3.-Agregar Postre 4.-Despachar 5.-Salir 4\n",
            "Ingresa tu nombre: Angel\n",
            "[['Enrique'], ['Pizza', 'Refresco', 'Pay', 'Angel']]\n"
          ]
        }
      ],
      "source": [
        "comida= []\n",
        "bebida = []\n",
        "postre= []\n",
        "comensal= []\n",
        "entrega= []\n",
        "def Comidas(x):\n",
        "    comida.append(x)\n",
        "    return comida\n",
        "\n",
        "def Bebidas(y):\n",
        "    bebida.append(y)\n",
        "    return bebida\n",
        "\n",
        "def Postres(m):\n",
        "    postre.append(m)\n",
        "    return postre\n",
        "\n",
        "def Despachar():\n",
        "  pedido =[]\n",
        "  comensal.append(input(\"Ingresa tu nombre: \"))\n",
        "  try:\n",
        "    pedido.append(comida.pop(0))\n",
        "  except:\n",
        "    print(\"No hay comida disponible \")\n",
        "  try: \n",
        "    pedido.append(bebida.pop(0))\n",
        "  except:\n",
        "    print(\"No hay bebidas disponibles \")\n",
        "  try:\n",
        "    pedido.append(postre.pop(0))\n",
        "  except:\n",
        "    print(\"No hay postres disponibles   \")\n",
        "  pedido.append(comensal[-1])\n",
        "  entrega.append(pedido)\n",
        "  print(entrega)\n",
        "\n",
        "op = 0 \n",
        "while op != 5:\n",
        "  op = int(input(\"Ingresa una opcion: 1.-Agregar comida 2.-Agregar bebida 3.-Agregar Postre 4.-Despachar 5.-Salir \"))\n",
        "  if op == 1:\n",
        "    if len(comida) < 5:\n",
        "      x = input(\"Ingresa comida que llego: \")\n",
        "      print(Comidas(x))\n",
        "    else: \n",
        "      print(\"Ya no puede agregar mas comida por el momento\")\n",
        "  elif op == 2:\n",
        "    if len(bebida) < 5:\n",
        "      y = input(\"Ingresa la bebida que llego:  \")\n",
        "      print(Bebidas(y))\n",
        "    else: \n",
        "      print(\"Ya no puede ingresar mas bebidas por el momento \")\n",
        "  elif op == 3:\n",
        "    if len(postre) < 5:\n",
        "      m = input(\"Ingresa el postre que llego: \")\n",
        "      print(Postres(m))\n",
        "    else: \n",
        "      print(\"Ya no puede ingresar mas postres por el momento\")\n",
        "  elif op == 4:\n",
        "    Despachar()\n",
        "print(\"Decidio terminar el programa, Hasta pronto \")"
      ]
    }
  ]
}